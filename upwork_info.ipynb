{
 "cells": [
  {
   "cell_type": "code",
   "execution_count": 1,
   "metadata": {
    "collapsed": true
   },
   "outputs": [],
   "source": [
    "#! /usr/bin/env python\n",
    "#coding=utf-8\n",
    "import pycurl\n",
    "import StringIO\n",
    "from lxml import etree\n",
    "import os\n",
    "import re\n",
    "import json\n",
    "import time\n",
    "import random\n",
    "from urllib import quote\n",
    "\n",
    "import requests"
   ]
  },
  {
   "cell_type": "code",
   "execution_count": 3,
   "metadata": {
    "collapsed": true
   },
   "outputs": [],
   "source": [
    "def get_html(url):\n",
    "    #url = 'http://blog.csdn.net/li6727975/article/details/46126079'\n",
    "    #url = 'https://www.upwork.com/o/profiles/browse/?page=%s' % str(page)\n",
    "    useragent = \"Mozilla/5.0 (Windows NT 6.1; Win64; x64; rv:43.0) Gecko/20100101 Firefox/43.0\"\n",
    "    s = StringIO.StringIO()\n",
    "    crl = pycurl.Curl()\n",
    "    #crl.setopt(pycurl.PROXY, '60.210.104.254:808')\n",
    "    #crl.setopt(pycurl.PROXY, 'http://127.0.0.1:1080')\n",
    "    crl.setopt(pycurl.URL, url)\n",
    "    crl.setopt(pycurl.REFERER, url)\n",
    "    crl.setopt(pycurl.FOLLOWLOCATION, True)\n",
    "    crl.setopt(pycurl.TIMEOUT, 60)\n",
    "    crl.setopt(pycurl.ENCODING, 'gzip')\n",
    "    crl.setopt(pycurl.USERAGENT, useragent)\n",
    "    crl.setopt(pycurl.NOSIGNAL, True)\n",
    "    crl.setopt(pycurl.WRITEFUNCTION, s.write)\n",
    "    crl.perform()\n",
    "    html = s.getvalue() \n",
    "    #tree = etree.HTML(html)\n",
    "    return html"
   ]
  },
  {
   "cell_type": "code",
   "execution_count": 4,
   "metadata": {
    "collapsed": true
   },
   "outputs": [],
   "source": [
    "def get_data(html_text):\n",
    "    \n",
    "    tree_text = etree.HTML(html_text)\n",
    "    #parse data\n",
    "    name = tree_text.xpath('//*[@id=\"optimizely-header-container-default\"]/div[1]/div[1]/div/div[2]/h2/span')[0].text\n",
    "    city = tree_text.xpath('//*[@id=\"optimizely-header-container-default\"]/div[1]/div[1]/div/div[2]/div/strong')[0].text\n",
    "    country = tree_text.xpath('//*[@id=\"optimizely-header-container-default\"]/div[1]/div[1]/div/div[2]/div/strong')[1].text\n",
    "    occupation = tree_text.xpath('//*[@id=\"optimizely-header-container-default\"]/div[2]/h3/span')[0].text\n",
    "    summary = tree_text.xpath('//*[@id=\"optimizely-header-container-default\"]/div[2]/div/p')[0].text.strip()\n",
    "    \n",
    "    rate_hour = re.findall('\"hourlyRate\".*?amount\":(.*?)}',html_text)[0]\n",
    "    skills = re.findall('\"br_data.search_term\":\"(.*?)\"',html_text)[0].split('|')\n",
    "    link = re.findall('href=\"(.*?)\"\\S',html_text)[0]\n",
    "    \n",
    "    one ={}\n",
    "    one['name']=name\n",
    "    one['link']=link\n",
    "    one['location']=city+','+country\n",
    "    one['occupation']=occupation\n",
    "    one['summary'] = summary\n",
    "    one['rate_hour']=rate_hour\n",
    "    one['skills']=skills\n",
    "    return one"
   ]
  },
  {
   "cell_type": "code",
   "execution_count": null,
   "metadata": {
    "collapsed": true
   },
   "outputs": [],
   "source": [
    "from bs4 import BeautifulSoup\n",
    "import re"
   ]
  },
  {
   "cell_type": "code",
   "execution_count": null,
   "metadata": {
    "collapsed": true
   },
   "outputs": [],
   "source": [
    "soup = BeautifulSoup(html_text)\n",
    "print(soup.prettify())"
   ]
  },
  {
   "cell_type": "code",
   "execution_count": null,
   "metadata": {
    "collapsed": true
   },
   "outputs": [],
   "source": [
    "url = 'https://www.upwork.com/o/companies/~01900fbf5e8dc8a019/'"
   ]
  },
  {
   "cell_type": "code",
   "execution_count": 5,
   "metadata": {
    "collapsed": true
   },
   "outputs": [],
   "source": [
    "url = 'https://www.upwork.com/o/profiles/users/_~01434d6e0b74340d34/'"
   ]
  },
  {
   "cell_type": "code",
   "execution_count": 4,
   "metadata": {
    "collapsed": true
   },
   "outputs": [],
   "source": [
    "url = 'https://www.upwork.com/o/profiles/users/_~01a5f38c9d2059d8fc/'"
   ]
  },
  {
   "cell_type": "code",
   "execution_count": null,
   "metadata": {
    "collapsed": true
   },
   "outputs": [],
   "source": []
  },
  {
   "cell_type": "code",
   "execution_count": 6,
   "metadata": {
    "collapsed": true
   },
   "outputs": [],
   "source": [
    "res = get_html_requests(url)"
   ]
  },
  {
   "cell_type": "code",
   "execution_count": 7,
   "metadata": {},
   "outputs": [
    {
     "data": {
      "text/plain": [
       "'<html><head><script src=\"https://www.google.com/recaptcha/api.js\"></script>                    <link href=\"https://assets.static-upwork.com/components/1.8.4/air.global.1.8.4.min.css\" rel=\"stylesheet\">\\n                    <link href=\"https://assets.static-upwork.com/components/1.8.4/air.components.1.8.4.min.css\" rel=\"stylesheet\">\\n                    <link href=\"https://assets.static-upwork.com/fonts/1.10.0/fonts.gotham.1.10.0.css\" rel=\"stylesheet\">\\n                    <link href=\"https://assets.static-upwork.com/fonts/1.10.0/fonts.air-icons.1.10.0.css\" rel=\"stylesheet\">\\n                    <script src=\"https://assets.static-upwork.com/components/1.8.4/core.1.8.4.min.js\"></script>\\n                    <script src=\"https://assets.static-upwork.com/components/1.8.4/angular-select.1.8.4.min.js\"></script>\\n                    <script src=\"https://assets.static-upwork.com/components/1.8.4/files.1.8.4.min.js\"></script>\\n                    <script>\\n                        //async font loading\\n                        window.onload = function() {\\n                        var linkGotham = document.createElement(\\'link\\');\\n                        linkGotham.href = \\'https://components.elance-odesk.com/fonts/1.10.0/fonts.gotham-async.1.10.0.css\\';\\n                        linkGotham.rel = \\'stylesheet\\';\\n                        document.getElementsByTagName(\\'head\\')[0].appendChild(linkGotham);\\n\\n                        var linkIcons = document.createElement(\\'link\\');\\n                        linkIcons.href = \\'https://components.elance-odesk.com/fonts/1.10.0/fonts.air-icons-async.1.10.0.css\\';\\n                        linkIcons.rel = \\'stylesheet\\';\\n                        document.getElementsByTagName(\\'head\\')[0].appendChild(linkIcons);\\n                        };\\n                    </script>\\n                <script>function handleCaptcha(response) { var vid = \"\"; var uuid = \"40c66600-f5d6-11e7-8249-85af4a9e376e\"; var name = \"_pxCaptcha\"; var expiryUtc = new Date(Date.now() + 1000 * 10).toUTCString(); var cookieParts = [name, \"=\", response + \":\" + vid + \":\" + uuid, \"; expires=\", expiryUtc, \"; path=/\"]; document.cookie = cookieParts.join(\"\"); document.cookie=cookieParts.join(\"\");location.reload()}(function () { window._pxAppId = \"PXSs13U803\"; var p = document.getElementsByTagName(\"script\")[0], s = document.createElement(\"script\"); s.async = 1; s.src = \"//client.perimeterx.net/PXSs13U803/main.min.js\"; p.parentNode.insertBefore(s, p); }());</script></head> \\n                        <body class=\"skinny-layout\">\\n                        <div id=\"layout\">\\n                        <header class=\"header-navbar-wrapper header-navbar-skinny\" role=\"banner\">\\n                        <nav role=\"navigation\" class=\"primary-navbar navbar navbar-default\">\\n                        <div class=\"container\">\\n                        <div class=\"nav navbar-header navbar-left\">\\n                        <a href=\"/\" class=\"navbar-brand\" target=\"_self\"></a>\\n                        </div>\\n                        </div>\\n                        </nav>\\n                        </header>\\n                        <div class=\"container\">\\n                        <div class=\"row\">\\n                        <div class=\"col-md-12\">\\n                        <div class=\"eo-navigation-image-alert\"></div>\\n                        <h1 class=\"m-0-top m-lg-top text-center\">Please pass the challenge to continue.</h1>\\n                        </div>\\n                        </div>\\n                        <div class=\"center-block g-recaptcha\" style=\"width: 320px;\" data-sitekey=\"6Lcj-R8TAAAAABs3FrRPuQhLMbp5QrHsHufzLf7b\" data-callback=\"handleCaptcha\" >\\n                        </div>\\n                        <div>\\n                        <h2 class=\"m-0-top m-lg-top text-center\">Please make sure your browser supports JavaScript and cookies and that you are not blocking them from loading. To learn more about how Upwork uses cookies please review our <a href=\"https://www.upwork.com/legal/cookie-policy/\">Cookie Policy</a>.</h2>\\n                        <p class=\"m-0-top m-lg-top text-center\">Reference ID: 40c66600-f5d6-11e7-8249-85af4a9e376e </p>\\n                        </div>\\n                        </div>\\n                        </div>\\n                        </body>    \\n                    </html>\\n'"
      ]
     },
     "execution_count": 7,
     "metadata": {},
     "output_type": "execute_result"
    }
   ],
   "source": [
    "res.content"
   ]
  },
  {
   "cell_type": "code",
   "execution_count": 8,
   "metadata": {},
   "outputs": [
    {
     "ename": "IndexError",
     "evalue": "list index out of range",
     "output_type": "error",
     "traceback": [
      "\u001b[1;31m---------------------------------------------------------------------------\u001b[0m",
      "\u001b[1;31mIndexError\u001b[0m                                Traceback (most recent call last)",
      "\u001b[1;32m<ipython-input-8-ce34fd0b5d03>\u001b[0m in \u001b[0;36m<module>\u001b[1;34m()\u001b[0m\n\u001b[1;32m----> 1\u001b[1;33m \u001b[0mdata\u001b[0m \u001b[1;33m=\u001b[0m \u001b[0mget_data\u001b[0m\u001b[1;33m(\u001b[0m\u001b[0mres\u001b[0m\u001b[1;33m.\u001b[0m\u001b[0mcontent\u001b[0m\u001b[1;33m)\u001b[0m\u001b[1;33m\u001b[0m\u001b[0m\n\u001b[0m",
      "\u001b[1;32m<ipython-input-4-abece7b5ae61>\u001b[0m in \u001b[0;36mget_data\u001b[1;34m(html_text)\u001b[0m\n\u001b[0;32m      3\u001b[0m     \u001b[0mtree_text\u001b[0m \u001b[1;33m=\u001b[0m \u001b[0metree\u001b[0m\u001b[1;33m.\u001b[0m\u001b[0mHTML\u001b[0m\u001b[1;33m(\u001b[0m\u001b[0mhtml_text\u001b[0m\u001b[1;33m)\u001b[0m\u001b[1;33m\u001b[0m\u001b[0m\n\u001b[0;32m      4\u001b[0m     \u001b[1;31m#parse data\u001b[0m\u001b[1;33m\u001b[0m\u001b[1;33m\u001b[0m\u001b[0m\n\u001b[1;32m----> 5\u001b[1;33m     \u001b[0mname\u001b[0m \u001b[1;33m=\u001b[0m \u001b[0mtree_text\u001b[0m\u001b[1;33m.\u001b[0m\u001b[0mxpath\u001b[0m\u001b[1;33m(\u001b[0m\u001b[1;34m'//*[@id=\"optimizely-header-container-default\"]/div[1]/div[1]/div/div[2]/h2/span'\u001b[0m\u001b[1;33m)\u001b[0m\u001b[1;33m[\u001b[0m\u001b[1;36m0\u001b[0m\u001b[1;33m]\u001b[0m\u001b[1;33m.\u001b[0m\u001b[0mtext\u001b[0m\u001b[1;33m\u001b[0m\u001b[0m\n\u001b[0m\u001b[0;32m      6\u001b[0m     \u001b[0mcity\u001b[0m \u001b[1;33m=\u001b[0m \u001b[0mtree_text\u001b[0m\u001b[1;33m.\u001b[0m\u001b[0mxpath\u001b[0m\u001b[1;33m(\u001b[0m\u001b[1;34m'//*[@id=\"optimizely-header-container-default\"]/div[1]/div[1]/div/div[2]/div/strong'\u001b[0m\u001b[1;33m)\u001b[0m\u001b[1;33m[\u001b[0m\u001b[1;36m0\u001b[0m\u001b[1;33m]\u001b[0m\u001b[1;33m.\u001b[0m\u001b[0mtext\u001b[0m\u001b[1;33m\u001b[0m\u001b[0m\n\u001b[0;32m      7\u001b[0m     \u001b[0mcountry\u001b[0m \u001b[1;33m=\u001b[0m \u001b[0mtree_text\u001b[0m\u001b[1;33m.\u001b[0m\u001b[0mxpath\u001b[0m\u001b[1;33m(\u001b[0m\u001b[1;34m'//*[@id=\"optimizely-header-container-default\"]/div[1]/div[1]/div/div[2]/div/strong'\u001b[0m\u001b[1;33m)\u001b[0m\u001b[1;33m[\u001b[0m\u001b[1;36m1\u001b[0m\u001b[1;33m]\u001b[0m\u001b[1;33m.\u001b[0m\u001b[0mtext\u001b[0m\u001b[1;33m\u001b[0m\u001b[0m\n",
      "\u001b[1;31mIndexError\u001b[0m: list index out of range"
     ]
    }
   ],
   "source": [
    "data = get_data(res.content)"
   ]
  },
  {
   "cell_type": "code",
   "execution_count": null,
   "metadata": {
    "collapsed": true
   },
   "outputs": [],
   "source": []
  },
  {
   "cell_type": "code",
   "execution_count": null,
   "metadata": {
    "collapsed": true
   },
   "outputs": [],
   "source": []
  },
  {
   "cell_type": "code",
   "execution_count": 5,
   "metadata": {
    "collapsed": true
   },
   "outputs": [],
   "source": [
    "html_text = get_html(url)\n",
    "data = get_data(html_text)"
   ]
  },
  {
   "cell_type": "code",
   "execution_count": 6,
   "metadata": {},
   "outputs": [
    {
     "name": "stdout",
     "output_type": "stream",
     "text": [
      "name : Karlene C.\n",
      "skills : ['general-office-skills', 'microsoft-excel', 'accounting', 'computer-skills', 'financial-reporting']\n",
      "summary : Providing accounting and bookkeeping service to small businesses. Treating you with courtesy, integrity, protect your privacy. Guaranteed an efficient, honest accounting service that achieves remarkable results for you. My 33 years of experience and notable expertise ensure that your bookkeeping is up to date and accurate. And most of all, I want you to be able to say; \"I love my accountant.\"\n",
      "rate_hour : 17\n",
      "link : https://www.upwork.com/o/profiles/users/_~01a5f38c9d2059d8fc/\n",
      "location : yuma,United States\n",
      "occupation : KC's Bookkeeping & Tax Service\n"
     ]
    }
   ],
   "source": [
    "for i in data:\n",
    "    print i+' : '+ str(data[i])"
   ]
  },
  {
   "cell_type": "code",
   "execution_count": 20,
   "metadata": {
    "collapsed": true
   },
   "outputs": [],
   "source": [
    "# not always 10, moving company links\n",
    "def get_link_list(page,keyword):\n",
    "    #have to quote keyword\n",
    "    url = 'https://www.upwork.com/o/profiles/browse/?page=%s&q=%s' % (str(page),quote(keyword))\n",
    "    urls = []\n",
    "    html_text = get_html(url)\n",
    "    tree_text = etree.HTML(html_text)\n",
    "    for one in tree_text.xpath('//section[@data-qa]'):\n",
    "        res = one.xpath('./div/article/div[2]/h4/a')[0]\n",
    "        root = 'https://www.upwork.com'\n",
    "        link = root+res.xpath('@href')[0]\n",
    "        # get rid of 'companies'\n",
    "        if \"profiles\" in link:\n",
    "            urls.append(link)\n",
    "    return urls"
   ]
  },
  {
   "cell_type": "code",
   "execution_count": 23,
   "metadata": {
    "collapsed": true
   },
   "outputs": [],
   "source": [
    "#getting keywords\n",
    "keywords=['machine learning','java']"
   ]
  },
  {
   "cell_type": "code",
   "execution_count": null,
   "metadata": {
    "collapsed": true
   },
   "outputs": [],
   "source": [
    "for keyword in keywords:\n",
    "    for p in range(1, 501):\n",
    "        urls = get_link_list(p,keyword)\n",
    "        for url in urls:\n",
    "            html_text = get_html(url)\n",
    "            data = get_data(html_text)\n",
    "            # saving data"
   ]
  },
  {
   "cell_type": "code",
   "execution_count": 24,
   "metadata": {
    "collapsed": true
   },
   "outputs": [],
   "source": [
    "# record what have done. "
   ]
  },
  {
   "cell_type": "code",
   "execution_count": 16,
   "metadata": {
    "collapsed": true
   },
   "outputs": [],
   "source": []
  },
  {
   "cell_type": "code",
   "execution_count": null,
   "metadata": {
    "collapsed": true
   },
   "outputs": [],
   "source": []
  }
 ],
 "metadata": {
  "kernelspec": {
   "display_name": "Python 2",
   "language": "python",
   "name": "python2"
  },
  "language_info": {
   "codemirror_mode": {
    "name": "ipython",
    "version": 2
   },
   "file_extension": ".py",
   "mimetype": "text/x-python",
   "name": "python",
   "nbconvert_exporter": "python",
   "pygments_lexer": "ipython2",
   "version": "2.7.14"
  }
 },
 "nbformat": 4,
 "nbformat_minor": 2
}
